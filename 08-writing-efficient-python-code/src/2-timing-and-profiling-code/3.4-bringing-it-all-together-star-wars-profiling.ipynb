{
 "cells": [
  {
   "cell_type": "code",
   "execution_count": 24,
   "metadata": {},
   "outputs": [
    {
     "name": "stdout",
     "output_type": "stream",
     "text": [
      "The line_profiler extension is already loaded. To reload it, use:\n",
      "  %reload_ext line_profiler\n",
      "The memory_profiler extension is already loaded. To reload it, use:\n",
      "  %reload_ext memory_profiler\n"
     ]
    }
   ],
   "source": [
    "import random\n",
    "from hero_funcs import get_publisher_heroes, get_publisher_heroes_np\n",
    "\n",
    "%load_ext line_profiler\n",
    "%load_ext memory_profiler"
   ]
  },
  {
   "cell_type": "code",
   "execution_count": 25,
   "metadata": {},
   "outputs": [],
   "source": [
    "heroes = ['A-Bomb', 'Abe Sapien', 'Abin Sur', 'Abomination', 'Absorbing Man', 'Adam Strange', 'Agent 13', 'Agent Bob', 'Agent Zero', 'Air-Walker', 'Ajax', 'Alan Scott', 'Alfred Pennyworth', 'Alien', 'Amazo', 'Ammo', 'Angel', 'Angel Dust', 'Angel Salvadore', 'Animal Man', 'Annihilus', 'Ant-Man', 'Ant-Man II', 'Anti-Venom', 'Apocalypse', 'Aqualad', 'Aquaman', 'Arachne', 'Archangel', 'Arclight', 'Ardina', 'Ares', 'Ariel', 'Armor', 'Atlas', 'Atom', 'Atom Girl', 'Atom II', 'Aurora', 'Azazel', 'Bane', 'Banshee', 'Bantam', 'Batgirl', 'Batgirl IV', 'Batgirl VI', 'Batman', 'Batman II', 'Battlestar', 'Beak', 'Beast', 'Beast Boy', 'Beta Ray Bill', 'Big Barda', 'Big Man', 'Binary', 'Bishop', 'Bizarro', 'Black Adam', 'Black Bolt', 'Black Canary', 'Black Cat', 'Black Knight III', 'Black Lightning', 'Black Mamba', 'Black Manta', 'Black Panther', 'Black Widow', 'Black Widow II', 'Blackout', 'Blackwing', 'Blackwulf', 'Blade', 'Bling!', 'Blink', 'Blizzard II', 'Blob', 'Bloodaxe', 'Blue Beetle II', 'Boom-Boom', 'Booster Gold', 'Box III', 'Brainiac', 'Brainiac 5', 'Brother Voodoo', 'Buffy', 'Bullseye', 'Bumblebee', 'Cable', 'Callisto', 'Cannonball', 'Captain America', 'Captain Atom', 'Captain Britain', 'Captain Mar-vell', 'Captain Marvel', 'Captain Marvel II', 'Carnage', 'Cat', 'Catwoman', 'Cecilia Reyes', 'Century', 'Chamber', 'Changeling', 'Cheetah', 'Cheetah II', 'Cheetah III', 'Chromos', 'Citizen Steel', 'Cloak', 'Clock King', 'Colossus', 'Copycat', 'Corsair', 'Cottonmouth', 'Crimson Dynamo', 'Crystal', 'Cyborg', 'Cyclops', 'Cypher', 'Dagger', 'Daredevil', 'Darkhawk', 'Darkseid', 'Darkstar', 'Darth Vader', 'Dash', 'Dazzler', 'Deadman', 'Deadpool', 'Deadshot', 'Deathlok', 'Deathstroke', 'Demogoblin', 'Destroyer', 'Diamondback', 'Doc Samson', 'Doctor Doom', 'Doctor Doom II', 'Doctor Fate', 'Doctor Octopus', 'Doctor Strange', 'Domino', 'Donna Troy', 'Doomsday', 'Doppelganger', 'Drax the Destroyer', 'Elastigirl', 'Electro', 'Elektra', 'Elongated Man', 'Emma Frost', 'Enchantress', 'Etrigan', 'Evil Deadpool', 'Evilhawk', 'Exodus', 'Fabian Cortez', 'Falcon', 'Feral', 'Fin Fang Foom', 'Firebird', 'Firelord', 'Firestar', 'Firestorm', 'Flash', 'Flash II', 'Flash III', 'Flash IV', 'Forge', 'Franklin Richards', 'Franklin Storm', 'Frenzy', 'Frigga', 'Galactus', 'Gambit', 'Gamora', 'Genesis', 'Ghost Rider', 'Giganta', 'Gladiator', 'Goblin Queen', 'Goku', 'Goliath IV', 'Gorilla Grodd', 'Granny Goodness', 'Gravity', 'Green Arrow', 'Green Goblin', 'Green Goblin II', 'Green Goblin III', 'Green Goblin IV', 'Groot', 'Guy Gardner', 'Hal Jordan', 'Han Solo', 'Harley Quinn', 'Havok', 'Hawk', 'Hawkeye', 'Hawkeye II', 'Hawkgirl', 'Hawkman', 'Hawkwoman', 'Hawkwoman III', 'Heat Wave', 'Hela', 'Hellboy', 'Hellcat', 'Hellstorm', 'Hercules', 'Hobgoblin', 'Hope Summers', 'Howard the Duck', 'Hulk', 'Human Torch', 'Huntress', 'Husk', 'Hybrid', 'Hydro-Man', 'Hyperion', 'Iceman', 'Impulse', 'Ink', 'Invisible Woman', 'Iron Fist', 'Iron Man', 'Jack of Hearts', 'Jack-Jack', 'James T, Kirk', 'Jean Grey', 'Jennifer Kale', 'Jessica Jones', 'Jigsaw', 'John Stewart', 'John Wraith', 'Joker', 'Jolt', 'Jubilee', 'Juggernaut', 'Justice', 'Kang', 'Karate Kid', 'Killer Croc', 'Kilowog', 'Kingpin', 'Klaw', 'Kraven II', 'Kraven the Hunter', 'Krypto', 'Kyle Rayner', 'Lady Deathstrike', 'Leader', 'Legion', 'Lex Luthor', 'Light Lass', 'Lightning Lad', 'Lightning Lord', 'Living Brain', 'Lizard', 'Lobo', 'Loki', 'Longshot', 'Luke Cage', 'Luke Skywalker', 'Mach-IV', 'Machine Man', 'Magneto', 'Man-Thing', 'Man-Wolf', 'Mandarin', 'Mantis', 'Martian Manhunter', 'Marvel Girl', 'Master Brood', 'Maverick', 'Maxima', 'Medusa', 'Meltdown', 'Mephisto', 'Mera', 'Metallo', 'Metamorpho', 'Metron', 'Micro Lad', 'Mimic', 'Miss Martian', 'Mister Fantastic', 'Mister Freeze', 'Mister Sinister', 'Mockingbird', 'MODOK', 'Molten Man', 'Monarch', 'Moon Knight', 'Moonstone', 'Morlun', 'Morph', 'Moses Magnum', 'Mr Immortal', 'Mr Incredible', 'Ms Marvel II', 'Multiple Man', 'Mysterio', 'Mystique', 'Namor', 'Namora', 'Namorita', 'Naruto Uzumaki', 'Nebula', 'Nick Fury', 'Nightcrawler', 'Nightwing', 'Northstar', 'Nova', 'Odin', 'Omega Red', 'Omniscient', 'One Punch Man', 'Onslaught', 'Oracle', 'Paul Blart', 'Penance II', 'Penguin', 'Phantom Girl', 'Phoenix', 'Plantman', 'Plastic Man', 'Plastique', 'Poison Ivy', 'Polaris', 'Power Girl', 'Predator', 'Professor X', 'Professor Zoom', 'Psylocke', 'Punisher', 'Purple Man', 'Pyro', 'Question', 'Quicksilver', 'Quill', \"Ra's Al Ghul\", 'Raven', 'Ray', 'Razor-Fist II', 'Red Arrow', 'Red Hood', 'Red Hulk', 'Red Robin', 'Red Skull', 'Red Tornado', 'Rhino', 'Rick Flag', 'Ripcord', 'Robin', 'Robin II', 'Robin III', 'Robin V', 'Rocket Raccoon', 'Rogue', 'Ronin', 'Rorschach', 'Sabretooth', 'Sage', 'Sandman', 'Sasquatch', 'Scarecrow', 'Scarlet Spider', 'Scarlet Spider II', 'Scarlet Witch', 'Scorpion', 'Sentry', 'Shadow King', 'Shadow Lass', 'Shadowcat', 'Shang-Chi', 'Shatterstar', 'She-Hulk', 'She-Thing', 'Shocker', 'Shriek', 'Sif', 'Silver Surfer', 'Silverclaw', 'Sinestro', 'Siren', 'Siryn', 'Skaar', 'Snowbird', 'Solomon Grundy', 'Songbird', 'Space Ghost', 'Spawn', 'Spider-Girl', 'Spider-Gwen', 'Spider-Man', 'Spider-Woman', 'Spider-Woman III', 'Spider-Woman IV', 'Spock', 'Spyke', 'Star-Lord', 'Starfire', 'Stargirl', 'Static', 'Steel', 'Steppenwolf', 'Storm', 'Sunspot', 'Superboy', 'Superboy-Prime', 'Supergirl', 'Superman', 'Swarm', 'Synch', 'T-1000', 'Taskmaster', 'Tempest', 'Thanos', 'The Comedian', 'Thing', 'Thor', 'Thor Girl', 'Thunderbird', 'Thunderbird III', 'Thunderstrike', 'Thundra', 'Tiger Shark', 'Tigra', 'Tinkerer', 'Toad', 'Toxin', 'Trickster', 'Triplicate Girl', 'Triton', 'Two-Face', 'Ultragirl', 'Ultron', 'Utgard-Loki', 'Vagabond', 'Valerie Hart', 'Valkyrie', 'Vanisher', 'Vegeta', 'Venom', 'Venom II', 'Venom III', 'Vertigo II', 'Vibe', 'Vindicator', 'Violet Parr', 'Vision', 'Vision II', 'Vixen', 'Vulture', 'Walrus', 'War Machine', 'Warbird', 'Warlock', 'Warp', 'Warpath', 'Wasp', 'White Queen', 'Winter Soldier', 'Wiz Kid', 'Wolfsbane', 'Wolverine', 'Wonder Girl', 'Wonder Man', 'Wonder Woman', 'Wyatt Wingfoot', 'X-23', 'X-Man', 'Yellow Claw', 'Yellowjacket', 'Yellowjacket II', 'Yoda', 'Zatanna', 'Zoom']\n",
    "publishers = ['Marvel Comics', 'Dark Horse Comics', 'DC Comics', 'Marvel Comics', 'Marvel Comics', 'DC Comics', 'Marvel Comics', 'Marvel Comics', 'Marvel Comics', 'Marvel Comics', 'Marvel Comics', 'DC Comics', 'DC Comics', 'Dark Horse Comics', 'DC Comics', 'Marvel Comics', 'Marvel Comics', 'Marvel Comics', 'Marvel Comics', 'DC Comics', 'Marvel Comics', 'Marvel Comics', 'Marvel Comics', 'Marvel Comics', 'Marvel Comics', 'DC Comics', 'DC Comics', 'Marvel Comics', 'Marvel Comics', 'Marvel Comics', 'Marvel Comics', 'Marvel Comics', 'Marvel Comics', 'Marvel Comics', 'Marvel Comics', 'DC Comics', 'DC Comics', 'DC Comics', 'Marvel Comics', 'Marvel Comics', 'DC Comics', 'Marvel Comics', 'Marvel Comics', 'DC Comics', 'DC Comics', 'DC Comics', 'DC Comics', 'DC Comics', 'Marvel Comics', 'Marvel Comics', 'Marvel Comics', 'DC Comics', 'Marvel Comics', 'DC Comics', 'Marvel Comics', 'Marvel Comics', 'Marvel Comics', 'DC Comics', 'DC Comics', 'Marvel Comics', 'DC Comics', 'Marvel Comics', 'Marvel Comics', 'DC Comics', 'Marvel Comics', 'DC Comics', 'Marvel Comics', 'Marvel Comics', 'Marvel Comics', 'Marvel Comics', 'Marvel Comics', 'Marvel Comics', 'Marvel Comics', 'Marvel Comics', 'Marvel Comics', 'Marvel Comics', 'Marvel Comics', 'Marvel Comics', 'DC Comics', 'Marvel Comics', 'DC Comics', 'Marvel Comics', 'DC Comics', 'DC Comics', 'Marvel Comics', 'Dark Horse Comics', 'Marvel Comics', 'DC Comics', 'Marvel Comics', 'Marvel Comics', 'Marvel Comics', 'Marvel Comics', 'DC Comics', 'Marvel Comics', 'Marvel Comics', 'Marvel Comics', 'DC Comics', 'Marvel Comics', 'Marvel Comics', 'DC Comics', 'Marvel Comics', 'Marvel Comics', 'Marvel Comics', 'Marvel Comics', 'DC Comics', 'DC Comics', 'DC Comics', 'Team Epic TV', 'DC Comics', 'Marvel Comics', 'DC Comics', 'Marvel Comics', 'Marvel Comics', 'Marvel Comics', 'Marvel Comics', 'Marvel Comics', 'Marvel Comics', 'DC Comics', 'Marvel Comics', 'Marvel Comics', 'Marvel Comics', 'Marvel Comics', 'Marvel Comics', 'DC Comics', 'Marvel Comics', 'George Lucas', 'Dark Horse Comics', 'Marvel Comics', 'DC Comics', 'Marvel Comics', 'DC Comics', 'Marvel Comics', 'DC Comics', 'Marvel Comics', 'Marvel Comics', 'Marvel Comics', 'Marvel Comics', 'Marvel Comics', 'Marvel Comics', 'DC Comics', 'Marvel Comics', 'Marvel Comics', 'Marvel Comics', 'DC Comics', 'DC Comics', 'Marvel Comics', 'Marvel Comics', 'Dark Horse Comics', 'Marvel Comics', 'Marvel Comics', 'DC Comics', 'Marvel Comics', 'DC Comics', 'DC Comics', 'Marvel Comics', 'Marvel Comics', 'Marvel Comics', 'Marvel Comics', 'Marvel Comics', 'Marvel Comics', 'Marvel Comics', 'Marvel Comics', 'Marvel Comics', 'Marvel Comics', 'DC Comics', 'DC Comics', 'DC Comics', 'DC Comics', 'DC Comics', 'Marvel Comics', 'Marvel Comics', 'Marvel Comics', 'Marvel Comics', 'Marvel Comics', 'Marvel Comics', 'Marvel Comics', 'Marvel Comics', 'Marvel Comics', 'Marvel Comics', 'DC Comics', 'Marvel Comics', 'Marvel Comics', 'Shueisha', 'Marvel Comics', 'DC Comics', 'DC Comics', 'Marvel Comics', 'DC Comics', 'Marvel Comics', 'Marvel Comics', 'Marvel Comics', 'Marvel Comics', 'Marvel Comics', 'DC Comics', 'DC Comics', 'George Lucas', 'DC Comics', 'Marvel Comics', 'DC Comics', 'Marvel Comics', 'Marvel Comics', 'DC Comics', 'DC Comics', 'DC Comics', 'DC Comics', 'DC Comics', 'Marvel Comics', 'Dark Horse Comics', 'Marvel Comics', 'Marvel Comics', 'Marvel Comics', 'Marvel Comics', 'Marvel Comics', 'Marvel Comics', 'Marvel Comics', 'Marvel Comics', 'DC Comics', 'Marvel Comics', 'Marvel Comics', 'Marvel Comics', 'Marvel Comics', 'Marvel Comics', 'DC Comics', 'Marvel Comics', 'Marvel Comics', 'Marvel Comics', 'Marvel Comics', 'Marvel Comics', 'Dark Horse Comics', 'Star Trek', 'Marvel Comics', 'Marvel Comics', 'Marvel Comics', 'Marvel Comics', 'DC Comics', 'Marvel Comics', 'DC Comics', 'Marvel Comics', 'Marvel Comics', 'Marvel Comics', 'Marvel Comics', 'Marvel Comics', 'DC Comics', 'DC Comics', 'DC Comics', 'Marvel Comics', 'Marvel Comics', 'Marvel Comics', 'Marvel Comics', 'DC Comics', 'DC Comics', 'Marvel Comics', 'Marvel Comics', 'Marvel Comics', 'DC Comics', 'DC Comics', 'DC Comics', 'DC Comics', 'Marvel Comics', 'Marvel Comics', 'DC Comics', 'Marvel Comics', 'Marvel Comics', 'Marvel Comics', 'George Lucas', 'Marvel Comics', 'Marvel Comics', 'Marvel Comics', 'Marvel Comics', 'Marvel Comics', 'Marvel Comics', 'Marvel Comics', 'DC Comics', 'Marvel Comics', 'Team Epic TV', 'Marvel Comics', 'DC Comics', 'Marvel Comics', 'Marvel Comics', 'Marvel Comics', 'DC Comics', 'DC Comics', 'DC Comics', 'DC Comics', 'DC Comics', 'Marvel Comics', 'DC Comics', 'Marvel Comics', 'DC Comics', 'Marvel Comics', 'Marvel Comics', 'Marvel Comics', 'Marvel Comics', 'DC Comics', 'Marvel Comics', 'Marvel Comics', 'Marvel Comics', 'Marvel Comics', 'Marvel Comics', 'Marvel Comics', 'Dark Horse Comics', 'Marvel Comics', 'Marvel Comics', 'Marvel Comics', 'Marvel Comics', 'Marvel Comics', 'Marvel Comics', 'Marvel Comics', 'Shueisha', 'Marvel Comics', 'Marvel Comics', 'Marvel Comics', 'DC Comics', 'Marvel Comics', 'Marvel Comics', 'Marvel Comics', 'Marvel Comics', 'Team Epic TV', 'Shueisha', 'Marvel Comics', 'DC Comics', 'Sony Pictures', 'Marvel Comics', 'DC Comics', 'DC Comics', 'Marvel Comics', 'Marvel Comics', 'DC Comics', 'DC Comics', 'DC Comics', 'Marvel Comics', 'DC Comics', 'Dark Horse Comics', 'Marvel Comics', 'DC Comics', 'Marvel Comics', 'Marvel Comics', 'Marvel Comics', 'Marvel Comics', 'DC Comics', 'Marvel Comics', 'Marvel Comics', 'DC Comics', 'DC Comics', 'DC Comics', 'Marvel Comics', 'DC Comics', 'DC Comics', 'Marvel Comics', 'DC Comics', 'Marvel Comics', 'DC Comics', 'Marvel Comics', 'DC Comics', 'Marvel Comics', 'DC Comics', 'DC Comics', 'DC Comics', 'DC Comics', 'Marvel Comics', 'Marvel Comics', 'Marvel Comics', 'DC Comics', 'Marvel Comics', 'Marvel Comics', 'Marvel Comics', 'Marvel Comics', 'DC Comics', 'Marvel Comics', 'Marvel Comics', 'Marvel Comics', 'Marvel Comics', 'Marvel Comics', 'Marvel Comics', 'DC Comics', 'Marvel Comics', 'Marvel Comics', 'Marvel Comics', 'Marvel Comics', 'Marvel Comics', 'Marvel Comics', 'Marvel Comics', 'Marvel Comics', 'Marvel Comics', 'Marvel Comics', 'DC Comics', 'DC Comics', 'Marvel Comics', 'Marvel Comics', 'Marvel Comics', 'DC Comics', 'Marvel Comics', 'DC Comics', 'Image Comics', 'Marvel Comics', 'Marvel Comics', 'Marvel Comics', 'Marvel Comics', 'Marvel Comics', 'Marvel Comics', 'Star Trek', 'Marvel Comics', 'Marvel Comics', 'DC Comics', 'DC Comics', 'DC Comics', 'DC Comics', 'DC Comics', 'Marvel Comics', 'Marvel Comics', 'DC Comics', 'DC Comics', 'DC Comics', 'DC Comics', 'Marvel Comics', 'Marvel Comics', 'Dark Horse Comics', 'Marvel Comics', 'Marvel Comics', 'Marvel Comics', 'DC Comics', 'Marvel Comics', 'Marvel Comics', 'Marvel Comics', 'Marvel Comics', 'Marvel Comics', 'Marvel Comics', 'Marvel Comics', 'Marvel Comics', 'Marvel Comics', 'Marvel Comics', 'Marvel Comics', 'Marvel Comics', 'DC Comics', 'DC Comics', 'Marvel Comics', 'DC Comics', 'Marvel Comics', 'Marvel Comics', 'Marvel Comics', 'Marvel Comics', 'Team Epic TV', 'Marvel Comics', 'Marvel Comics', 'Shueisha', 'Marvel Comics', 'Marvel Comics', 'Marvel Comics', 'Marvel Comics', 'DC Comics', 'Marvel Comics', 'Dark Horse Comics', 'Marvel Comics', 'Marvel Comics', 'DC Comics', 'Marvel Comics', 'Marvel Comics', 'Marvel Comics', 'Marvel Comics', 'Marvel Comics', 'DC Comics', 'Marvel Comics', 'Marvel Comics', 'Marvel Comics', 'Marvel Comics', 'Marvel Comics', 'Marvel Comics', 'Marvel Comics', 'DC Comics', 'Marvel Comics', 'DC Comics', 'Marvel Comics', 'Marvel Comics', 'Marvel Comics', 'Marvel Comics', 'Marvel Comics', 'Marvel Comics', 'George Lucas', 'DC Comics', 'DC Comics']"
   ]
  },
  {
   "cell_type": "code",
   "execution_count": 26,
   "metadata": {},
   "outputs": [
    {
     "name": "stdout",
     "output_type": "stream",
     "text": [
      "['Darth Vader', 'Han Solo', 'Luke Skywalker', 'Yoda']\n",
      "<class 'list'>\n",
      "['Darth Vader' 'Han Solo' 'Luke Skywalker' 'Yoda']\n",
      "<class 'numpy.ndarray'>\n"
     ]
    }
   ],
   "source": [
    "# Use get_publisher_heroes() to gather Star Wars heroes\n",
    "star_wars_heroes = get_publisher_heroes(heroes, publishers, 'George Lucas')\n",
    "\n",
    "print(star_wars_heroes)\n",
    "print(type(star_wars_heroes))\n",
    "\n",
    "# Use get_publisher_heroes_np() to gather Star Wars heroes\n",
    "star_wars_heroes_np = get_publisher_heroes_np(heroes, publishers, 'George Lucas')\n",
    "\n",
    "print(star_wars_heroes_np)\n",
    "print(type(star_wars_heroes_np))"
   ]
  },
  {
   "cell_type": "code",
   "execution_count": 27,
   "metadata": {},
   "outputs": [
    {
     "name": "stdout",
     "output_type": "stream",
     "text": [
      "Timer unit: 1e-09 s\n",
      "\n",
      "Total time: 0.000109317 s\n",
      "File: /home/jorge/Projects/DataCamp/data-engineer-in-python/08-writing-efficient-python-code/src/2-timing-and-profiling-code/hero_funcs.py\n",
      "Function: get_publisher_heroes at line 43\n",
      "\n",
      "Line #      Hits         Time  Per Hit   % Time  Line Contents\n",
      "==============================================================\n",
      "    43                                           def get_publisher_heroes(heroes, publishers, desired_publisher):\n",
      "    44                                           \n",
      "    45         1        574.0    574.0      0.5      desired_heroes = []\n",
      "    46                                           \n",
      "    47       481      57997.0    120.6     53.1      for i,pub in enumerate(publishers):\n",
      "    48       480      48891.0    101.9     44.7          if pub == desired_publisher:\n",
      "    49         4       1703.0    425.8      1.6              desired_heroes.append(heroes[i])\n",
      "    50                                           \n",
      "    51         1        152.0    152.0      0.1      return desired_heroes"
     ]
    }
   ],
   "source": [
    "%lprun -f get_publisher_heroes get_publisher_heroes(heroes, publishers, 'George Lucas')"
   ]
  },
  {
   "cell_type": "code",
   "execution_count": 28,
   "metadata": {},
   "outputs": [
    {
     "name": "stdout",
     "output_type": "stream",
     "text": [
      "Timer unit: 1e-09 s\n",
      "\n",
      "Total time: 0.00012026 s\n",
      "File: /home/jorge/Projects/DataCamp/data-engineer-in-python/08-writing-efficient-python-code/src/2-timing-and-profiling-code/hero_funcs.py\n",
      "Function: get_publisher_heroes_np at line 53\n",
      "\n",
      "Line #      Hits         Time  Per Hit   % Time  Line Contents\n",
      "==============================================================\n",
      "    53                                           def get_publisher_heroes_np(heroes, publishers, desired_publisher):\n",
      "    54                                           \n",
      "    55         1      65029.0  65029.0     54.1      heroes_np = np.array(heroes)\n",
      "    56         1      38076.0  38076.0     31.7      pubs_np = np.array(publishers)\n",
      "    57                                           \n",
      "    58         1      17018.0  17018.0     14.2      desired_heroes = heroes_np[pubs_np == desired_publisher]\n",
      "    59                                           \n",
      "    60         1        137.0    137.0      0.1      return desired_heroes"
     ]
    }
   ],
   "source": [
    "%lprun -f get_publisher_heroes_np get_publisher_heroes_np(heroes, publishers, 'George Lucas')"
   ]
  },
  {
   "cell_type": "code",
   "execution_count": 29,
   "metadata": {},
   "outputs": [
    {
     "name": "stdout",
     "output_type": "stream",
     "text": [
      "\n"
     ]
    },
    {
     "name": "stdout",
     "output_type": "stream",
     "text": [
      "Filename: /home/jorge/Projects/DataCamp/data-engineer-in-python/08-writing-efficient-python-code/src/2-timing-and-profiling-code/hero_funcs.py\n",
      "\n",
      "Line #    Mem usage    Increment  Occurrences   Line Contents\n",
      "=============================================================\n",
      "    43     79.6 MiB     79.6 MiB           1   def get_publisher_heroes(heroes, publishers, desired_publisher):\n",
      "    44                                         \n",
      "    45     79.6 MiB      0.0 MiB           1       desired_heroes = []\n",
      "    46                                         \n",
      "    47     79.6 MiB      0.0 MiB         481       for i,pub in enumerate(publishers):\n",
      "    48     79.6 MiB      0.0 MiB         480           if pub == desired_publisher:\n",
      "    49     79.6 MiB      0.0 MiB           4               desired_heroes.append(heroes[i])\n",
      "    50                                         \n",
      "    51     79.6 MiB      0.0 MiB           1       return desired_heroes"
     ]
    }
   ],
   "source": [
    "%mprun -f get_publisher_heroes get_publisher_heroes(heroes, publishers, 'George Lucas')"
   ]
  },
  {
   "cell_type": "code",
   "execution_count": 30,
   "metadata": {},
   "outputs": [
    {
     "name": "stdout",
     "output_type": "stream",
     "text": [
      "\n"
     ]
    },
    {
     "name": "stdout",
     "output_type": "stream",
     "text": [
      "Filename: /home/jorge/Projects/DataCamp/data-engineer-in-python/08-writing-efficient-python-code/src/2-timing-and-profiling-code/hero_funcs.py\n",
      "\n",
      "Line #    Mem usage    Increment  Occurrences   Line Contents\n",
      "=============================================================\n",
      "    53     79.6 MiB     79.6 MiB           1   def get_publisher_heroes_np(heroes, publishers, desired_publisher):\n",
      "    54                                         \n",
      "    55     79.6 MiB      0.0 MiB           1       heroes_np = np.array(heroes)\n",
      "    56     79.6 MiB      0.0 MiB           1       pubs_np = np.array(publishers)\n",
      "    57                                         \n",
      "    58     79.6 MiB      0.0 MiB           1       desired_heroes = heroes_np[pubs_np == desired_publisher]\n",
      "    59                                         \n",
      "    60     79.6 MiB      0.0 MiB           1       return desired_heroes"
     ]
    }
   ],
   "source": [
    "%mprun -f get_publisher_heroes_np get_publisher_heroes_np(heroes, publishers, 'George Lucas')"
   ]
  }
 ],
 "metadata": {
  "kernelspec": {
   "display_name": "data-engineer-in-python",
   "language": "python",
   "name": "python3"
  },
  "language_info": {
   "codemirror_mode": {
    "name": "ipython",
    "version": 3
   },
   "file_extension": ".py",
   "mimetype": "text/x-python",
   "name": "python",
   "nbconvert_exporter": "python",
   "pygments_lexer": "ipython3",
   "version": "3.9.20"
  }
 },
 "nbformat": 4,
 "nbformat_minor": 2
}
