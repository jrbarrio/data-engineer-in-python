{
 "cells": [
  {
   "cell_type": "markdown",
   "id": "2d87ea02-5b59-46e0-b59e-b6801142bab2",
   "metadata": {},
   "source": [
    "# Data Engineer Certification Sample Practical Exam\n",
    "\n",
    "HappyPaws, creates fun and educational apps for pet owners. \n",
    "\n",
    "HappyPaws wants to help pet owners understand their pets better by tracking their activities and health through the app. \n",
    "\n",
    "The data engineering team is responsible for making sure all the pet data from thousands of users is organized and safe, so pet owners can get tips to keep their pets happy and healthy.\n",
    "\n"
   ]
  },
  {
   "cell_type": "markdown",
   "id": "012b5c7e-84a1-47aa-91e5-69237d0f7768",
   "metadata": {},
   "source": [
    "## Task\n",
    "\n",
    "HappyPaws has collected three datasets over the past year: \n",
    " - \"pet_activities.csv\" which logs daily activities of pets, \n",
    " - \"pet_health.csv\" which records vet visits and health issues, and \n",
    " - \"users.csv\" which contains information about the pet owners. \n",
    "\n",
    "Each dataset contains unique identifiers for pets and/or their owners. \n",
    "\n",
    "The engineers developing the app currently write code to cross reference all of these data sources. \n",
    "\n",
    "They want to make things easier by having a single table with all data included.\n",
    "\n",
    "Your manager has asked you to write a Python function that cleans and merges these datasets into a single dataset. \n",
    "\n",
    "The final dataset should provide a comprehensive view of each pet's activities, health records, and owner information. \n",
    "\n",
    "- To test your code, your manager will run only the code `all_pet_data('pet_activities.csv', 'pet_health.csv', 'users.csv')`\n",
    "- Your `all_pet_data()` function must return a DataFrame, with columns as described below.\n",
    "- All columns must accurately match the descriptions provided below, including names."
   ]
  },
  {
   "cell_type": "markdown",
   "id": "ad7f8345-891c-4a4a-a37c-f89d0a22f997",
   "metadata": {},
   "source": [
    "## Data\n",
    "\n",
    "The data that has been provided has the following structure\n",
    "\n",
    "![image](image.png)\n",
    "\n",
    "The function that you write must return data as described below. There should be a unique row for each activity/health visit. \n",
    "\n",
    "Where missing values are permitted, they should be in the default Python format.\n",
    "\n",
    "|Column Name | Description |\n",
    "|-------|-------|\n",
    "| pet_id | Unique identifier for each pet. There should not be any missing values.|\n",
    "| date | The date of the activity recorded or the date of the health visit, in date format. There should not be any missing values.|\n",
    "| activity_type | The type of activity, one of 'Walking', 'Playing', 'Resting' or for rows that relate to a health visit, the value 'Health'. Missing values are permitted.|\n",
    "| duration_minutes | The duration of the activity in minutes. For rows that relate to health visits, this should be 0. Missing values for other activities are permitted.|\n",
    "| issue | The health issue identified or check-up note. For rows that relate to activities, this should be a missing value. Missing values for health activities are permitted.|\n",
    "| resolution | The outcome or advice given for the issue. For rows that relate to activities, this should be a missing value. Missing values for health activities are permitted.|\n",
    "| owner_id | Unique identifier for the pet owner. All pets must have an owner.|\n",
    "| owner_age_group | The age group of the owner (e.g., 18-25, 26-35, etc.). Missing values are permitted.|\n",
    "| pet_type | The type of pet (e.g., Dog, Cat). Missing values are permitted.|"
   ]
  },
  {
   "cell_type": "code",
   "execution_count": 10,
   "id": "b6079aaf-f1c5-4f2a-a84e-6e1403aa8146",
   "metadata": {},
   "outputs": [],
   "source": [
    "# Use as many python cells as you wish to write your code"
   ]
  },
  {
   "cell_type": "code",
   "execution_count": 1,
   "id": "02e266b0",
   "metadata": {},
   "outputs": [],
   "source": [
    "import pandas as pd"
   ]
  },
  {
   "cell_type": "code",
   "execution_count": 2,
   "id": "c27ac7e2",
   "metadata": {},
   "outputs": [
    {
     "data": {
      "text/html": [
       "<div>\n",
       "<style scoped>\n",
       "    .dataframe tbody tr th:only-of-type {\n",
       "        vertical-align: middle;\n",
       "    }\n",
       "\n",
       "    .dataframe tbody tr th {\n",
       "        vertical-align: top;\n",
       "    }\n",
       "\n",
       "    .dataframe thead th {\n",
       "        text-align: right;\n",
       "    }\n",
       "</style>\n",
       "<table border=\"1\" class=\"dataframe\">\n",
       "  <thead>\n",
       "    <tr style=\"text-align: right;\">\n",
       "      <th></th>\n",
       "      <th>pet_id</th>\n",
       "      <th>date</th>\n",
       "      <th>activity_type</th>\n",
       "      <th>duration_minutes</th>\n",
       "    </tr>\n",
       "  </thead>\n",
       "  <tbody>\n",
       "    <tr>\n",
       "      <th>0</th>\n",
       "      <td>9930</td>\n",
       "      <td>2023-08-01</td>\n",
       "      <td>Resting</td>\n",
       "      <td>-</td>\n",
       "    </tr>\n",
       "    <tr>\n",
       "      <th>1</th>\n",
       "      <td>3040</td>\n",
       "      <td>2023-07-24</td>\n",
       "      <td>Resting</td>\n",
       "      <td>4</td>\n",
       "    </tr>\n",
       "    <tr>\n",
       "      <th>2</th>\n",
       "      <td>2381</td>\n",
       "      <td>2023-01-11</td>\n",
       "      <td>Walking</td>\n",
       "      <td>24</td>\n",
       "    </tr>\n",
       "    <tr>\n",
       "      <th>3</th>\n",
       "      <td>3936</td>\n",
       "      <td>2022-09-15</td>\n",
       "      <td>Walking</td>\n",
       "      <td>73</td>\n",
       "    </tr>\n",
       "    <tr>\n",
       "      <th>4</th>\n",
       "      <td>8989</td>\n",
       "      <td>2023-02-06</td>\n",
       "      <td>Playing</td>\n",
       "      <td>77</td>\n",
       "    </tr>\n",
       "  </tbody>\n",
       "</table>\n",
       "</div>"
      ],
      "text/plain": [
       "   pet_id        date activity_type duration_minutes\n",
       "0    9930  2023-08-01       Resting                -\n",
       "1    3040  2023-07-24       Resting                4\n",
       "2    2381  2023-01-11       Walking               24\n",
       "3    3936  2022-09-15       Walking               73\n",
       "4    8989  2023-02-06       Playing               77"
      ]
     },
     "execution_count": 2,
     "metadata": {},
     "output_type": "execute_result"
    }
   ],
   "source": [
    "pet_activities = pd.read_csv(\"pet_activities.csv\")\n",
    "pet_activities.head()"
   ]
  },
  {
   "cell_type": "code",
   "execution_count": 3,
   "id": "c478d01e",
   "metadata": {},
   "outputs": [
    {
     "data": {
      "text/html": [
       "<div>\n",
       "<style scoped>\n",
       "    .dataframe tbody tr th:only-of-type {\n",
       "        vertical-align: middle;\n",
       "    }\n",
       "\n",
       "    .dataframe tbody tr th {\n",
       "        vertical-align: top;\n",
       "    }\n",
       "\n",
       "    .dataframe thead th {\n",
       "        text-align: right;\n",
       "    }\n",
       "</style>\n",
       "<table border=\"1\" class=\"dataframe\">\n",
       "  <thead>\n",
       "    <tr style=\"text-align: right;\">\n",
       "      <th></th>\n",
       "      <th>pet_id</th>\n",
       "      <th>visit_date</th>\n",
       "      <th>issue</th>\n",
       "      <th>resolution</th>\n",
       "    </tr>\n",
       "  </thead>\n",
       "  <tbody>\n",
       "    <tr>\n",
       "      <th>0</th>\n",
       "      <td>9692</td>\n",
       "      <td>2022-10-09</td>\n",
       "      <td>Dental Cleaning</td>\n",
       "      <td>Cleaning done, no dental issues</td>\n",
       "    </tr>\n",
       "    <tr>\n",
       "      <th>1</th>\n",
       "      <td>9186</td>\n",
       "      <td>2022-05-15</td>\n",
       "      <td>Ear Infection</td>\n",
       "      <td>Medication and follow-up in 2 weeks for infection</td>\n",
       "    </tr>\n",
       "    <tr>\n",
       "      <th>2</th>\n",
       "      <td>2709</td>\n",
       "      <td>2023-12-24</td>\n",
       "      <td>Annual Checkup</td>\n",
       "      <td>All clear, healthy diet recommended</td>\n",
       "    </tr>\n",
       "    <tr>\n",
       "      <th>3</th>\n",
       "      <td>2513</td>\n",
       "      <td>2023-03-18</td>\n",
       "      <td>Annual Checkup</td>\n",
       "      <td>Vaccination completed, next due in 1 year</td>\n",
       "    </tr>\n",
       "    <tr>\n",
       "      <th>4</th>\n",
       "      <td>2016</td>\n",
       "      <td>2023-10-03</td>\n",
       "      <td>Dental Cleaning</td>\n",
       "      <td>Cleaning done, no dental issues</td>\n",
       "    </tr>\n",
       "  </tbody>\n",
       "</table>\n",
       "</div>"
      ],
      "text/plain": [
       "   pet_id  visit_date            issue  \\\n",
       "0    9692  2022-10-09  Dental Cleaning   \n",
       "1    9186  2022-05-15    Ear Infection   \n",
       "2    2709  2023-12-24   Annual Checkup   \n",
       "3    2513  2023-03-18   Annual Checkup   \n",
       "4    2016  2023-10-03  Dental Cleaning   \n",
       "\n",
       "                                          resolution  \n",
       "0                    Cleaning done, no dental issues  \n",
       "1  Medication and follow-up in 2 weeks for infection  \n",
       "2                All clear, healthy diet recommended  \n",
       "3          Vaccination completed, next due in 1 year  \n",
       "4                    Cleaning done, no dental issues  "
      ]
     },
     "execution_count": 3,
     "metadata": {},
     "output_type": "execute_result"
    }
   ],
   "source": [
    "pet_health = pd.read_csv(\"pet_health.csv\")\n",
    "pet_health.head()"
   ]
  },
  {
   "cell_type": "code",
   "execution_count": 4,
   "id": "23662553",
   "metadata": {},
   "outputs": [
    {
     "data": {
      "text/html": [
       "<div>\n",
       "<style scoped>\n",
       "    .dataframe tbody tr th:only-of-type {\n",
       "        vertical-align: middle;\n",
       "    }\n",
       "\n",
       "    .dataframe tbody tr th {\n",
       "        vertical-align: top;\n",
       "    }\n",
       "\n",
       "    .dataframe thead th {\n",
       "        text-align: right;\n",
       "    }\n",
       "</style>\n",
       "<table border=\"1\" class=\"dataframe\">\n",
       "  <thead>\n",
       "    <tr style=\"text-align: right;\">\n",
       "      <th></th>\n",
       "      <th>owner_id</th>\n",
       "      <th>pet_id</th>\n",
       "      <th>owner_age_group</th>\n",
       "      <th>pet_type</th>\n",
       "    </tr>\n",
       "  </thead>\n",
       "  <tbody>\n",
       "    <tr>\n",
       "      <th>0</th>\n",
       "      <td>7016</td>\n",
       "      <td>9930</td>\n",
       "      <td>18-25</td>\n",
       "      <td>Dog</td>\n",
       "    </tr>\n",
       "    <tr>\n",
       "      <th>1</th>\n",
       "      <td>5637</td>\n",
       "      <td>3040</td>\n",
       "      <td>18-25</td>\n",
       "      <td>Rabbit</td>\n",
       "    </tr>\n",
       "    <tr>\n",
       "      <th>2</th>\n",
       "      <td>5366</td>\n",
       "      <td>2381</td>\n",
       "      <td>18-25</td>\n",
       "      <td>Rabbit</td>\n",
       "    </tr>\n",
       "    <tr>\n",
       "      <th>3</th>\n",
       "      <td>7063</td>\n",
       "      <td>3936</td>\n",
       "      <td>26-35</td>\n",
       "      <td>Hamster</td>\n",
       "    </tr>\n",
       "    <tr>\n",
       "      <th>4</th>\n",
       "      <td>3803</td>\n",
       "      <td>8989</td>\n",
       "      <td>36-45</td>\n",
       "      <td>Dog</td>\n",
       "    </tr>\n",
       "  </tbody>\n",
       "</table>\n",
       "</div>"
      ],
      "text/plain": [
       "   owner_id  pet_id owner_age_group pet_type\n",
       "0      7016    9930           18-25      Dog\n",
       "1      5637    3040           18-25   Rabbit\n",
       "2      5366    2381           18-25   Rabbit\n",
       "3      7063    3936           26-35  Hamster\n",
       "4      3803    8989           36-45      Dog"
      ]
     },
     "execution_count": 4,
     "metadata": {},
     "output_type": "execute_result"
    }
   ],
   "source": [
    "users = pd.read_csv(\"users.csv\")\n",
    "users.head()"
   ]
  },
  {
   "cell_type": "code",
   "execution_count": 5,
   "id": "8598763b",
   "metadata": {},
   "outputs": [],
   "source": [
    "def pet_activities_data(pet_activities_df, users_df):\n",
    "    df = pet_activities_df.merge(users_df, on='pet_id')\n",
    "\n",
    "    df[\"issue\"] = None\n",
    "    df[\"resolution\"] = None\n",
    "\n",
    "    df = df.loc[:, [\"pet_id\", \"date\", \"activity_type\", \"duration_minutes\", \"issue\", \"resolution\", \"owner_id\", \"owner_age_group\", \"pet_type\"]]\n",
    "\n",
    "    return df\n",
    "\n",
    "def pet_health_data(pet_health_df, users_df):\n",
    "    df = pet_health_df.merge(users_df, on='pet_id')\n",
    "\n",
    "    df[\"activity_type\"] = \"Health\"\n",
    "    df[\"duration_minutes\"] = 0\n",
    "\n",
    "    df = df.rename(columns={\n",
    "        \"visit_date\": \"date\"\n",
    "    })\n",
    "\n",
    "    df = df.loc[:, [\"pet_id\", \"date\", \"activity_type\", \"duration_minutes\", \"issue\", \"resolution\", \"owner_id\", \"owner_age_group\", \"pet_type\"]]\n",
    "\n",
    "    return df\n",
    "\n",
    "def all_pet_data(pet_activities_filename, pet_health_filename, users_filename):\n",
    "    pet_activities_df = pd.read_csv(pet_activities_filename)\n",
    "    pet_health_df = pd.read_csv(pet_health_filename)\n",
    "    users_df = pd.read_csv(users_filename)\n",
    "\n",
    "    pet_activities_data_df = pet_activities_data(pet_activities_df, users_df)\n",
    "    pet_health_data_df = pet_health_data(pet_health_df, users_df)\n",
    "\n",
    "    all_data = pd.concat([pet_activities_data_df, pet_health_data_df], axis=0)\n",
    "\n",
    "    all_data = all_data[all_data[\"duration_minutes\"] != \"-\"]\n",
    "\n",
    "    all_data['date'] = pd.to_datetime(all_data['date'])\n",
    "    all_data['activity_type'] = all_data['activity_type'].astype('category')\n",
    "    all_data['duration_minutes'] = all_data['duration_minutes'].astype('int')\n",
    "    all_data['owner_age_group'] = all_data['owner_age_group'].astype('category')\n",
    "    all_data['pet_type'] = all_data['pet_type'].astype('category')\n",
    "\n",
    "    return all_data"
   ]
  },
  {
   "cell_type": "code",
   "execution_count": 6,
   "id": "85087c76",
   "metadata": {},
   "outputs": [],
   "source": [
    "df = all_pet_data('pet_activities.csv', 'pet_health.csv', 'users.csv')"
   ]
  },
  {
   "cell_type": "code",
   "execution_count": 7,
   "id": "3c876c3b",
   "metadata": {},
   "outputs": [
    {
     "name": "stdout",
     "output_type": "stream",
     "text": [
      "pet_id                       int64\n",
      "date                datetime64[ns]\n",
      "activity_type             category\n",
      "duration_minutes             int64\n",
      "issue                       object\n",
      "resolution                  object\n",
      "owner_id                     int64\n",
      "owner_age_group           category\n",
      "pet_type                  category\n",
      "dtype: object\n"
     ]
    }
   ],
   "source": [
    "print(df.dtypes)"
   ]
  },
  {
   "cell_type": "code",
   "execution_count": 8,
   "id": "ab76c341",
   "metadata": {},
   "outputs": [
    {
     "name": "stdout",
     "output_type": "stream",
     "text": [
      "pet_id                0\n",
      "date                  0\n",
      "activity_type         0\n",
      "duration_minutes      0\n",
      "issue               751\n",
      "resolution          751\n",
      "owner_id              0\n",
      "owner_age_group       0\n",
      "pet_type              0\n",
      "dtype: int64\n"
     ]
    }
   ],
   "source": [
    "print(df.isna().sum())"
   ]
  },
  {
   "cell_type": "code",
   "execution_count": 9,
   "id": "b1bd8249",
   "metadata": {},
   "outputs": [
    {
     "name": "stdout",
     "output_type": "stream",
     "text": [
      "     pet_id       date activity_type  duration_minutes           issue  \\\n",
      "1      3040 2023-07-24       Resting                 4            None   \n",
      "2      2381 2023-01-11       Walking                24            None   \n",
      "3      3936 2022-09-15       Walking                73            None   \n",
      "4      8989 2023-02-06       Playing                77            None   \n",
      "5       627 2023-02-15       Resting                45            None   \n",
      "..      ...        ...           ...               ...             ...   \n",
      "935    9136 2022-04-15        Health                 0  Annual Checkup   \n",
      "936    3228 2023-07-30        Health                 0          Injury   \n",
      "937    9163 2023-01-20        Health                 0  Annual Checkup   \n",
      "938    2805 2022-05-28        Health                 0          Injury   \n",
      "939    8070 2022-09-14        Health                 0          Injury   \n",
      "\n",
      "                                            resolution  owner_id  \\\n",
      "1                                                 None      5637   \n",
      "2                                                 None      5366   \n",
      "3                                                 None      7063   \n",
      "4                                                 None      3803   \n",
      "5                                                 None      5611   \n",
      "..                                                 ...       ...   \n",
      "935                All clear, healthy diet recommended      3553   \n",
      "936      Physical therapy recommended for joint issues      8432   \n",
      "937          Vaccination completed, next due in 1 year      8254   \n",
      "938  Sprain identified, rest and limited movement a...      6327   \n",
      "939      Physical therapy recommended for joint issues      4144   \n",
      "\n",
      "    owner_age_group pet_type  \n",
      "1             18-25   Rabbit  \n",
      "2             18-25   Rabbit  \n",
      "3             26-35  Hamster  \n",
      "4             36-45      Dog  \n",
      "5             46-55     Fish  \n",
      "..              ...      ...  \n",
      "935           18-25      Dog  \n",
      "936             66+     Fish  \n",
      "937           46-55  Hamster  \n",
      "938           36-45   Rabbit  \n",
      "939           36-45     Fish  \n",
      "\n",
      "[1691 rows x 9 columns]\n"
     ]
    }
   ],
   "source": [
    "print(df)"
   ]
  }
 ],
 "metadata": {
  "colab": {
   "name": "Welcome to DataCamp Workspaces.ipynb",
   "provenance": []
  },
  "kernelspec": {
   "display_name": "data-engineer-in-python",
   "language": "python",
   "name": "python3"
  },
  "language_info": {
   "codemirror_mode": {
    "name": "ipython",
    "version": 3
   },
   "file_extension": ".py",
   "mimetype": "text/x-python",
   "name": "python",
   "nbconvert_exporter": "python",
   "pygments_lexer": "ipython3",
   "version": "3.9.20"
  }
 },
 "nbformat": 4,
 "nbformat_minor": 5
}
